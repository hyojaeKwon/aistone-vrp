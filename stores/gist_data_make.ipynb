{
 "cells": [
  {
   "cell_type": "code",
   "execution_count": 1,
   "id": "b72372e5",
   "metadata": {},
   "outputs": [],
   "source": [
    "import pandas as pd"
   ]
  },
  {
   "cell_type": "code",
   "execution_count": 2,
   "id": "337333d2",
   "metadata": {},
   "outputs": [],
   "source": [
    "from api import get_api"
   ]
  },
  {
   "cell_type": "code",
   "execution_count": 4,
   "id": "f0d53e34",
   "metadata": {},
   "outputs": [],
   "source": [
    "import json"
   ]
  },
  {
   "cell_type": "code",
   "execution_count": 7,
   "id": "618962b4",
   "metadata": {},
   "outputs": [],
   "source": [
    "import requests"
   ]
  },
  {
   "cell_type": "code",
   "execution_count": 8,
   "id": "0b2dc8ce",
   "metadata": {},
   "outputs": [],
   "source": [
    "gist_data = pd.read_csv('./gist.csv')"
   ]
  },
  {
   "cell_type": "code",
   "execution_count": 9,
   "id": "ac260880",
   "metadata": {},
   "outputs": [
    {
     "name": "stderr",
     "output_type": "stream",
     "text": [
      "/var/folders/tp/dcr77srx31sfjt_0ldrqb0hh0000gn/T/ipykernel_2368/2302238778.py:6: FutureWarning: The frame.append method is deprecated and will be removed from pandas in a future version. Use pandas.concat instead.\n",
      "  gist_data = gist_data.append(dest,ignore_index=True)\n"
     ]
    }
   ],
   "source": [
    "dest = {\n",
    "    'storeNo' : 0,\n",
    "    'name' : 'GIST대학',\n",
    "    'address' : '광주 북구 첨단과기로 123'\n",
    "}\n",
    "gist_data = gist_data.append(dest,ignore_index=True)"
   ]
  },
  {
   "cell_type": "code",
   "execution_count": 10,
   "id": "2b86d07e",
   "metadata": {},
   "outputs": [],
   "source": [
    "gist_data = gist_data.sort_values('storeNo')"
   ]
  },
  {
   "cell_type": "code",
   "execution_count": 11,
   "id": "48290198",
   "metadata": {},
   "outputs": [],
   "source": [
    "# 위도 경도 가져오기\n",
    "def convert_location(region):\n",
    "\n",
    "    url = 'https://dapi.kakao.com/v2/local/search/address'\n",
    "    params = {'query': region, 'page': 1}\n",
    "    header = {'Authorization': 'KakaoAK ' + get_api()}\n",
    "\n",
    "    places = requests.get(url, params=params, headers=header).json()[\n",
    "        'documents']\n",
    "\n",
    "    return {'x': places[0]['x'], 'y': places[0][\"y\"]}"
   ]
  },
  {
   "cell_type": "code",
   "execution_count": 12,
   "id": "45129093",
   "metadata": {},
   "outputs": [],
   "source": [
    "x = []\n",
    "y = []\n",
    "\n",
    "for add in gist_data['address']:\n",
    "#     print(add)\n",
    "    data = convert_location(add)\n",
    "    x.append(data['x'])\n",
    "    y.append(data['y'])\n",
    "    \n",
    "gist_data['x']=x\n",
    "gist_data['y']=y"
   ]
  },
  {
   "cell_type": "code",
   "execution_count": 14,
   "id": "d1bf11d8",
   "metadata": {},
   "outputs": [],
   "source": [
    "gist_data.to_csv('gist_data.csv',mode='w')"
   ]
  },
  {
   "cell_type": "code",
   "execution_count": null,
   "id": "afc7b86e",
   "metadata": {},
   "outputs": [],
   "source": []
  }
 ],
 "metadata": {
  "kernelspec": {
   "display_name": "aistone_kernel",
   "language": "python",
   "name": "aistone_kernel"
  },
  "language_info": {
   "codemirror_mode": {
    "name": "ipython",
    "version": 3
   },
   "file_extension": ".py",
   "mimetype": "text/x-python",
   "name": "python",
   "nbconvert_exporter": "python",
   "pygments_lexer": "ipython3",
   "version": "3.10.4"
  }
 },
 "nbformat": 4,
 "nbformat_minor": 5
}
