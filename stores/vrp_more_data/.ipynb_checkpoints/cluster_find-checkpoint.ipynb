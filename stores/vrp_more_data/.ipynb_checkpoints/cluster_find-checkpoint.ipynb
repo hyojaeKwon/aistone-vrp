{
 "cells": [
  {
   "cell_type": "code",
   "execution_count": 1,
   "id": "d731adfa",
   "metadata": {},
   "outputs": [],
   "source": [
    "import pandas as pd"
   ]
  },
  {
   "cell_type": "code",
   "execution_count": 2,
   "id": "a78e21e9",
   "metadata": {},
   "outputs": [],
   "source": [
    "cluster = pd.read_csv('clustered.csv')"
   ]
  },
  {
   "cell_type": "code",
   "execution_count": 5,
   "id": "4c929ca2",
   "metadata": {},
   "outputs": [],
   "source": [
    "cluster = cluster.groupby(['cluster'], as_index=False).mean()"
   ]
  },
  {
   "cell_type": "code",
   "execution_count": 6,
   "id": "f049d402",
   "metadata": {},
   "outputs": [],
   "source": [
    "cluster.to_csv('cluster_info',mode='w',index=False)"
   ]
  },
  {
   "cell_type": "code",
   "execution_count": null,
   "id": "898ad4c4",
   "metadata": {},
   "outputs": [],
   "source": []
  }
 ],
 "metadata": {
  "kernelspec": {
   "display_name": "aistone_kernel",
   "language": "python",
   "name": "aistone_kernel"
  },
  "language_info": {
   "codemirror_mode": {
    "name": "ipython",
    "version": 3
   },
   "file_extension": ".py",
   "mimetype": "text/x-python",
   "name": "python",
   "nbconvert_exporter": "python",
   "pygments_lexer": "ipython3",
   "version": "3.10.5"
  }
 },
 "nbformat": 4,
 "nbformat_minor": 5
}
