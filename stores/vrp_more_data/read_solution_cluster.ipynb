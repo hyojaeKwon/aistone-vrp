{
 "cells": [
  {
   "cell_type": "code",
   "execution_count": null,
   "id": "959a5c4d",
   "metadata": {},
   "outputs": [],
   "source": [
    "import pandas as pd\n",
    "from api import get_api\n",
    "from ortools.constraint_solver import routing_enums_pb2\n",
    "from ortools.constraint_solver import pywrapcp\n",
    "from tqdm import tqdm"
   ]
  },
  {
   "cell_type": "markdown",
   "id": "d04e664d",
   "metadata": {},
   "source": [
    "### Cluster의 vrp 정보를 가져온다."
   ]
  },
  {
   "cell_type": "code",
   "execution_count": null,
   "id": "669a5027",
   "metadata": {},
   "outputs": [],
   "source": [
    "solution = pd.read_csv('solution_cluster_info.csv')"
   ]
  },
  {
   "cell_type": "code",
   "execution_count": null,
   "id": "1ac3619f",
   "metadata": {},
   "outputs": [],
   "source": [
    "solution"
   ]
  },
  {
   "cell_type": "markdown",
   "id": "bea42c2c",
   "metadata": {},
   "source": [
    "### Cluster 정보를 나타낸다."
   ]
  },
  {
   "cell_type": "code",
   "execution_count": null,
   "id": "57d5cbb8",
   "metadata": {},
   "outputs": [],
   "source": [
    "spot = pd.read_csv('clusterinfo.csv')\n",
    "spot"
   ]
  },
  {
   "cell_type": "markdown",
   "id": "e9935dc5",
   "metadata": {},
   "source": [
    "### Cluster된 정보를 가져오는 함수"
   ]
  },
  {
   "cell_type": "code",
   "execution_count": null,
   "id": "0c444731",
   "metadata": {},
   "outputs": [],
   "source": [
    "def find(cNum):\n",
    "    cNum = cNum[2:]\n",
    "    result = pd.DataFrame()\n",
    "    for i in cNum:\n",
    "        if(i==50):\n",
    "            break\n",
    "        temp = spot[spot['cluster']==i]\n",
    "        result = pd.concat([result, temp],ignore_index=True,axis=0)\n",
    "        result = result[['lat','lng']]\n",
    "    return result"
   ]
  },
  {
   "cell_type": "code",
   "execution_count": null,
   "id": "378bd66f",
   "metadata": {},
   "outputs": [],
   "source": [
    "solutionList = solution.values.tolist()\n",
    "arrive = {'lat': 35.229546, 'lng' : 126.847516}"
   ]
  },
  {
   "cell_type": "code",
   "execution_count": null,
   "id": "2f9a14ef",
   "metadata": {
    "scrolled": false
   },
   "outputs": [],
   "source": [
    "def calcdistance(A,B):\n",
    "    return abs(A['lat']-B['lat']) + abs(A['lng']-B['lng'])"
   ]
  },
  {
   "cell_type": "code",
   "execution_count": null,
   "id": "940feb7f",
   "metadata": {},
   "outputs": [],
   "source": [
    "def calc_distance(originX,originY,destinationX, destinationY):\n",
    "    # origin and destination should be coordinate\n",
    "    url = 'https://apis-navi.kakaomobility.com/v1/directions'\n",
    "    params = {'origin': str(originX) +','+str(originY),\n",
    "              'destination': str(destinationX) + ','+str(destinationY)}\n",
    "    header = {'Authorization': 'KakaoAK ' + get_api()}\n",
    "\n",
    "    route = requests.get(url, params=params, headers=header).json()\n",
    "#     print(route)\n",
    "\n",
    "    if route['routes'][0]['result_code'] == 104:\n",
    "        return 0\n",
    "    else:\n",
    "        return(route['routes'][0]['summary']['duration'])"
   ]
  },
  {
   "cell_type": "code",
   "execution_count": null,
   "id": "1831508a",
   "metadata": {},
   "outputs": [],
   "source": [
    "def print_solution(data, manager, routing, solution):\n",
    "    \"\"\"Prints solution on console.\"\"\"\n",
    "    print(f'Objective: {solution.ObjectiveValue()}')\n",
    "    max_route_distance = 0\n",
    "    for vehicle_id in range(data['num_vehicles']):\n",
    "        index = routing.Start(vehicle_id)\n",
    "        plan_output = 'Route for vehicle {}:\\n'.format(vehicle_id)\n",
    "        route_distance = 0\n",
    "        while not routing.IsEnd(index):\n",
    "            plan_output += ' {} -> '.format(manager.IndexToNode(index))\n",
    "            previous_index = index\n",
    "            index = solution.Value(routing.NextVar(index))\n",
    "            route_distance += routing.GetArcCostForVehicle(\n",
    "                previous_index, index, vehicle_id)\n",
    "        plan_output += '{}\\n'.format(manager.IndexToNode(index))\n",
    "        plan_output += 'Distance of the route: {}m\\n'.format(route_distance/60)\n",
    "        print(plan_output)\n",
    "        max_route_distance = max(route_distance, max_route_distance)\n",
    "    print('Maximum of the route distances: {}m'.format(max_route_distance/60))"
   ]
  },
  {
   "cell_type": "code",
   "execution_count": null,
   "id": "f9fe9ef5",
   "metadata": {},
   "outputs": [],
   "source": [
    "print('start')"
   ]
  },
  {
   "cell_type": "code",
   "execution_count": null,
   "id": "9996c9f1",
   "metadata": {},
   "outputs": [],
   "source": [
    "answer = []\n",
    "\n",
    "\n",
    "for i in solutionList:\n",
    "    newDF = pd.DataFrame(find(i))\n",
    "    if(len(newDF) <= 0):\n",
    "        continue\n",
    "    newDF = newDF.append(arrive,ignore_index=True)\n",
    "    result = []\n",
    "    for j in range(len(newDF)-1):\n",
    "        temp = []\n",
    "        for k in range(len(newDF)):\n",
    "            distance = calcdistance(newDF.iloc[j],newDF.iloc[k]) * 100000\n",
    "            temp.append(distance)\n",
    "        result.append(temp)\n",
    "    result.append([0]*len(newDF))\n",
    "    print(len(result),len(result[0]),len(result[len(result)-1]))\n",
    "    def create_data_model():\n",
    "        data = {}\n",
    "        data['distance_matrix'] = result\n",
    "        data['num_vehicles'] = 3\n",
    "        data['depot'] = len(result)-1\n",
    "        return data\n",
    "    \n",
    "    # Instantiate the data problem.\n",
    "\n",
    "    data = create_data_model()\n",
    "    \n",
    "    # Create the routing index manager.\n",
    "    manager = pywrapcp.RoutingIndexManager(len(data['distance_matrix']),\n",
    "                                           data['num_vehicles'], data['depot'])\n",
    "\n",
    "    # Create Routing Model.\n",
    "    routing = pywrapcp.RoutingModel(manager)\n",
    "    \n",
    "    \n",
    "    def distance_callback(from_index, to_index):\n",
    "        \"\"\"Returns the distance between the two nodes.\"\"\"\n",
    "        # Convert from routing variable Index to distance matrix NodeIndex.\n",
    "        from_node = manager.IndexToNode(from_index)\n",
    "        to_node = manager.IndexToNode(to_index)\n",
    "        return data['distance_matrix'][from_node][to_node] \n",
    "    \n",
    "    transit_callback_index = routing.RegisterTransitCallback(distance_callback)\n",
    "\n",
    "    # Define cost of each arc.\n",
    "    routing.SetArcCostEvaluatorOfAllVehicles(transit_callback_index)\n",
    "    \n",
    "    dimension_name = 'Distance'\n",
    "    routing.AddDimension(\n",
    "        transit_callback_index,\n",
    "        100000,  # no slack\n",
    "        30000000,  # vehicle maximum travel distance\n",
    "        True,  # start cumul to zero\n",
    "        dimension_name)\n",
    "    distance_dimension = routing.GetDimensionOrDie(dimension_name)\n",
    "    distance_dimension.SetGlobalSpanCostCoefficient(100)\n",
    "\n",
    "    # Setting first solution heuristic.\n",
    "    search_parameters = pywrapcp.DefaultRoutingSearchParameters()\n",
    "    search_parameters.first_solution_strategy = (\n",
    "        routing_enums_pb2.FirstSolutionStrategy.PATH_CHEAPEST_ARC)\n",
    "    \n",
    "    solution = routing.SolveWithParameters(search_parameters)\n",
    "    \n",
    "    def print_solution_only_num():\n",
    "        output = []\n",
    "        for vehicle_id in range(data['num_vehicles']):\n",
    "            Output = []\n",
    "            index = routing.Start(vehicle_id)\n",
    "            while not routing.IsEnd(index):\n",
    "                Output.append(manager.IndexToNode(index))\n",
    "                index = solution.Value(routing.NextVar(index))\n",
    "            Output.append(manager.IndexToNode(index))  \n",
    "            output.append(Output)\n",
    "        return output\n",
    "    \n",
    "    if solution:\n",
    "        print_solution(data, manager, routing, solution)\n",
    "        sol = print_solution_only_num()\n",
    "        answer.append(sol)\n",
    "        print(sol)\n",
    "    else:\n",
    "        print('No solution found !')"
   ]
  },
  {
   "cell_type": "code",
   "execution_count": null,
   "id": "d4166cce",
   "metadata": {},
   "outputs": [],
   "source": [
    "answerDF = pd.DataFrame(answer)"
   ]
  },
  {
   "cell_type": "code",
   "execution_count": null,
   "id": "2d9b7078",
   "metadata": {},
   "outputs": [],
   "source": [
    "answerDF.to_csv('allDF.csv',index=False)"
   ]
  },
  {
   "cell_type": "code",
   "execution_count": null,
   "id": "cc431e14",
   "metadata": {},
   "outputs": [],
   "source": [
    "\n",
    "    "
   ]
  },
  {
   "cell_type": "code",
   "execution_count": null,
   "id": "892f2b38",
   "metadata": {},
   "outputs": [],
   "source": []
  }
 ],
 "metadata": {
  "kernelspec": {
   "display_name": "Python 3 (ipykernel)",
   "language": "python",
   "name": "python3"
  },
  "language_info": {
   "codemirror_mode": {
    "name": "ipython",
    "version": 3
   },
   "file_extension": ".py",
   "mimetype": "text/x-python",
   "name": "python",
   "nbconvert_exporter": "python",
   "pygments_lexer": "ipython3",
   "version": "3.9.12"
  }
 },
 "nbformat": 4,
 "nbformat_minor": 5
}
