{
 "cells": [
  {
   "cell_type": "code",
   "execution_count": 1,
   "id": "d20e358e",
   "metadata": {},
   "outputs": [],
   "source": [
    "import matplotlib.pyplot as plt\n",
    "from ortools.constraint_solver import routing_enums_pb2\n",
    "from ortools.constraint_solver import pywrapcp"
   ]
  },
  {
   "cell_type": "markdown",
   "id": "4289eb7d",
   "metadata": {},
   "source": [
    "### 시간 보정\n",
    "\n",
    "Load Time matrix를 만들어야 한다."
   ]
  },
  {
   "cell_type": "code",
   "execution_count": 2,
   "id": "55a278f3",
   "metadata": {},
   "outputs": [
    {
     "name": "stdout",
     "output_type": "stream",
     "text": [
      "14\n"
     ]
    }
   ],
   "source": [
    "# Example dots\n",
    "dots = [\n",
    "    [0,1],\n",
    "    [2,1],\n",
    "    [3,7],\n",
    "    [2,5],\n",
    "    [1,8],\n",
    "    [5,0],\n",
    "    [6,7],\n",
    "    [2,9],\n",
    "    [4,4],\n",
    "    [8,2],\n",
    "    [5,1],\n",
    "    [6,4],\n",
    "    [2,5],\n",
    "    [9,7],\n",
    "]\n",
    "print(len(dots))"
   ]
  },
  {
   "cell_type": "code",
   "execution_count": 3,
   "id": "c0b990cd",
   "metadata": {},
   "outputs": [],
   "source": [
    "time_constant = 3\n",
    "\n",
    "tiem_to_service = [ time_constant ] * len(dots)"
   ]
  },
  {
   "cell_type": "code",
   "execution_count": 4,
   "id": "45d381bf",
   "metadata": {},
   "outputs": [
    {
     "data": {
      "image/png": "[encoded data removed]",
      "text/plain": [
       "<Figure size 432x288 with 1 Axes>"
      ]
     },
     "metadata": {
      "needs_background": "light"
     },
     "output_type": "display_data"
    }
   ],
   "source": [
    "list_x = []\n",
    "list_y = []\n",
    "\n",
    "for i in range(len(dots)):\n",
    "    if i == 10:\n",
    "        plt.scatter([dots[i][0]],[dots[i][1]],\n",
    "            marker='o',\n",
    "            s=30,\n",
    "            c='red',\n",
    "            edgecolors='black')\n",
    "        continue\n",
    "    list_x.append(dots[i][0])\n",
    "    list_y.append(dots[i][1])\n",
    "\n",
    "plt.scatter(list_x,list_y,\n",
    "           marker='o',\n",
    "           s=30,\n",
    "           c='lightgreen',\n",
    "           edgecolors='black')\n",
    "\n",
    "plt.title('Values graph')\n",
    "plt.show()"
   ]
  },
  {
   "cell_type": "code",
   "execution_count": 5,
   "id": "6ab9b757",
   "metadata": {},
   "outputs": [
    {
     "data": {
      "text/plain": [
       "[[0, 0, 0, 0, 0, 0, 0, 0, 0, 0, 0, 0, 0, 0],\n",
       " [2, 0, 7, 4, 8, 4, 10, 8, 5, 7, 3, 7, 4, 13],\n",
       " [9, 7, 0, 3, 3, 9, 3, 3, 4, 10, 8, 6, 3, 6],\n",
       " [6, 4, 3, 0, 4, 8, 6, 4, 3, 9, 7, 5, 0, 9],\n",
       " [8, 8, 3, 4, 0, 12, 6, 2, 7, 13, 11, 9, 4, 9],\n",
       " [6, 4, 9, 8, 12, 0, 8, 12, 5, 5, 1, 5, 8, 11],\n",
       " [12, 10, 3, 6, 6, 8, 0, 6, 5, 7, 7, 3, 6, 3],\n",
       " [10, 8, 3, 4, 2, 12, 6, 0, 7, 13, 11, 9, 4, 9],\n",
       " [7, 5, 4, 3, 7, 5, 5, 7, 0, 6, 4, 2, 3, 8],\n",
       " [9, 7, 10, 9, 13, 5, 7, 13, 6, 0, 4, 4, 9, 6],\n",
       " [5, 3, 8, 7, 11, 1, 7, 11, 4, 4, 0, 4, 7, 10],\n",
       " [9, 7, 6, 5, 9, 5, 3, 9, 2, 4, 4, 0, 5, 6],\n",
       " [6, 4, 3, 0, 4, 8, 6, 4, 3, 9, 7, 5, 0, 9],\n",
       " [15, 13, 6, 9, 9, 11, 3, 9, 8, 6, 10, 6, 9, 0]]"
      ]
     },
     "execution_count": 5,
     "metadata": {},
     "output_type": "execute_result"
    }
   ],
   "source": [
    "# distance_matrix 계산하는 부분\n",
    "\n",
    "sample = [0]*len(dots)\n",
    "distance_matrix = []\n",
    "\n",
    "for i in range(len(dots)):\n",
    "    single_distance_matrix = []\n",
    "    if i == 0:\n",
    "        distance_matrix.append(sample)\n",
    "        continue\n",
    "        \n",
    "    for j in range(len(dots)):\n",
    "        distance = abs(dots[i][0] - dots[j][0]) + abs(dots[i][1] - dots[j][1])\n",
    "        single_distance_matrix.append(distance)\n",
    "    \n",
    "    distance_matrix.append(single_distance_matrix)\n",
    "    \n",
    "distance_matrix\n",
    "        "
   ]
  },
  {
   "cell_type": "code",
   "execution_count": 6,
   "id": "fd293b30",
   "metadata": {},
   "outputs": [
    {
     "data": {
      "text/plain": [
       "[(0, 100),\n",
       " (0, 100),\n",
       " (20, 100),\n",
       " (0, 100),\n",
       " (10, 100),\n",
       " (0, 100),\n",
       " (10, 11),\n",
       " (30, 100),\n",
       " (0, 100),\n",
       " (45, 100),\n",
       " (40, 100),\n",
       " (0, 100),\n",
       " (0, 100),\n",
       " (0, 100)]"
      ]
     },
     "execution_count": 6,
     "metadata": {},
     "output_type": "execute_result"
    }
   ],
   "source": [
    "# time window 계산\n",
    "time_window = [\n",
    "    (0, 100),\n",
    "    (0, 100),\n",
    "    (20, 100),\n",
    "    (0, 100),\n",
    "    (10, 100),\n",
    "    (0, 100),\n",
    "    (10, 11),\n",
    "    (30, 100),\n",
    "    (0, 100),\n",
    "    (45, 100),\n",
    "    (40, 100),\n",
    "    (0, 100),\n",
    "    (0, 100),\n",
    "    (0, 100),\n",
    "]\n",
    "\n",
    "time_window"
   ]
  },
  {
   "cell_type": "code",
   "execution_count": 10,
   "id": "858cff05",
   "metadata": {},
   "outputs": [],
   "source": [
    "def create_data_model():\n",
    "    data = {}\n",
    "    data['service_time'] = tiem_to_service\n",
    "    data['time_matrix'] = distance_matrix\n",
    "    data['time_windows'] = time_window\n",
    "    data['num_vehicles'] = 3\n",
    "    data['depot'] = 0\n",
    "    return data"
   ]
  },
  {
   "cell_type": "code",
   "execution_count": 11,
   "id": "c70704c3",
   "metadata": {},
   "outputs": [],
   "source": [
    "# Instance the data problem\n",
    "data = create_data_model()"
   ]
  },
  {
   "cell_type": "code",
   "execution_count": 12,
   "id": "66971976",
   "metadata": {},
   "outputs": [],
   "source": [
    "# Create the routing index manager\n",
    "manager = pywrapcp.RoutingIndexManager(len(data['time_matrix']),data['num_vehicles'], data['depot'])"
   ]
  },
  {
   "cell_type": "code",
   "execution_count": 13,
   "id": "2db13084",
   "metadata": {},
   "outputs": [],
   "source": [
    "# Create Routing Model.\n",
    "routing = pywrapcp.RoutingModel(manager)"
   ]
  },
  {
   "cell_type": "code",
   "execution_count": 14,
   "id": "679d98c9",
   "metadata": {},
   "outputs": [],
   "source": [
    "# Create and register a transit callback.\n",
    "def time_callback(from_index, to_index):\n",
    "    \"\"\"Returns the travel time between the two nodes.\"\"\"\n",
    "    # Convert from routing variable Index to time matrix NodeIndex.\n",
    "    from_node = manager.IndexToNode(from_index)\n",
    "    to_node = manager.IndexToNode(to_index)\n",
    "    return data['time_matrix'][from_node][to_node] + data['service_time'][from_node]"
   ]
  },
  {
   "cell_type": "code",
   "execution_count": 15,
   "id": "5a365360",
   "metadata": {},
   "outputs": [],
   "source": [
    "transit_callback_index = routing.RegisterTransitCallback(time_callback)"
   ]
  },
  {
   "cell_type": "code",
   "execution_count": 16,
   "id": "f31e5c2c",
   "metadata": {},
   "outputs": [],
   "source": [
    "# Define cost of each arc.\n",
    "routing.SetArcCostEvaluatorOfAllVehicles(transit_callback_index)# Define cost of each arc."
   ]
  },
  {
   "cell_type": "code",
   "execution_count": 17,
   "id": "6c9e0819",
   "metadata": {},
   "outputs": [],
   "source": [
    "# Add Time Windows constraint.\n",
    "time = 'Time'\n",
    "routing.AddDimension(\n",
    "    transit_callback_index,\n",
    "    10,  # allow waiting time\n",
    "    60,  # maximum time per vehicle\n",
    "    False,  # Don't force start cumul to zero.\n",
    "    time)\n",
    "time_dimension = routing.GetDimensionOrDie(time)\n",
    "# Add time window constraints for each location except depot.\n",
    "for location_idx, time_window in enumerate(data['time_windows']):\n",
    "    if location_idx == data['depot']:\n",
    "        continue\n",
    "    index = manager.NodeToIndex(location_idx)\n",
    "    time_dimension.CumulVar(index).SetRange(time_window[0], time_window[1])\n",
    "# Add time window constraints for each vehicle start node.\n",
    "depot_idx = data['depot']\n",
    "for vehicle_id in range(data['num_vehicles']):\n",
    "    index = routing.Start(vehicle_id)\n",
    "    time_dimension.CumulVar(index).SetRange(\n",
    "        data['time_windows'][depot_idx][0],\n",
    "        data['time_windows'][depot_idx][1])\n"
   ]
  },
  {
   "cell_type": "code",
   "execution_count": 18,
   "id": "460d1348",
   "metadata": {},
   "outputs": [],
   "source": [
    "# Instantiate route start and end times to produce feasible times.\n",
    "for i in range(data['num_vehicles']):\n",
    "    routing.AddVariableMinimizedByFinalizer(\n",
    "        time_dimension.CumulVar(routing.Start(i)))\n",
    "    routing.AddVariableMinimizedByFinalizer(\n",
    "        time_dimension.CumulVar(routing.End(i)))"
   ]
  },
  {
   "cell_type": "code",
   "execution_count": 19,
   "id": "5b21d3e1",
   "metadata": {},
   "outputs": [],
   "source": [
    "# Setting first solution heuristic.\n",
    "search_parameters = pywrapcp.DefaultRoutingSearchParameters()\n",
    "search_parameters.first_solution_strategy = (\n",
    "    routing_enums_pb2.FirstSolutionStrategy.PATH_CHEAPEST_ARC)\n",
    "search_parameters.time_limit.seconds = 30"
   ]
  },
  {
   "cell_type": "code",
   "execution_count": 20,
   "id": "72d02bcf",
   "metadata": {},
   "outputs": [],
   "source": [
    "solution = routing.SolveWithParameters(search_parameters)\n"
   ]
  },
  {
   "cell_type": "code",
   "execution_count": 21,
   "id": "596adf01",
   "metadata": {},
   "outputs": [],
   "source": [
    "def print_solution(data, manager, routing, solution):\n",
    "    \"\"\"Prints solution on console.\"\"\"\n",
    "    print(f'Objective: {solution.ObjectiveValue()}')\n",
    "    time_dimension = routing.GetDimensionOrDie('Time')\n",
    "    total_time = 0\n",
    "    for vehicle_id in range(data['num_vehicles']):\n",
    "        index = routing.Start(vehicle_id)\n",
    "        plan_output = 'Route for vehicle {}:\\n'.format(vehicle_id)\n",
    "        while not routing.IsEnd(index):\n",
    "            time_var = time_dimension.CumulVar(index)\n",
    "            plan_output += '{0} Time({1},{2}) -> '.format(\n",
    "                manager.IndexToNode(index), solution.Min(time_var),\n",
    "                solution.Max(time_var))\n",
    "            index = solution.Value(routing.NextVar(index))\n",
    "        time_var = time_dimension.CumulVar(index)\n",
    "        plan_output += '{0} Time({1},{2})\\n'.format(manager.IndexToNode(index),\n",
    "                                                    solution.Min(time_var),\n",
    "                                                    solution.Max(time_var))\n",
    "        plan_output += 'Time of the route: {}min\\n'.format(\n",
    "            solution.Min(time_var))\n",
    "        print(plan_output)\n",
    "        total_time += solution.Min(time_var)\n",
    "    print('Total time of all routes: {}min'.format(total_time))"
   ]
  },
  {
   "cell_type": "code",
   "execution_count": 36,
   "id": "5fe67292",
   "metadata": {},
   "outputs": [],
   "source": [
    "def print_solution_only_num():\n",
    "    output = []\n",
    "    for vehicle_id in range(data['num_vehicles']):\n",
    "        Output = []\n",
    "        index = routing.Start(vehicle_id)\n",
    "        while not routing.IsEnd(index):\n",
    "            Output.append(manager.IndexToNode(index))\n",
    "            index = solution.Value(routing.NextVar(index))\n",
    "        Output.append(manager.IndexToNode(index))  \n",
    "        output.append(Output)\n",
    "    print(output)\n"
   ]
  },
  {
   "cell_type": "code",
   "execution_count": 37,
   "id": "34deef5a",
   "metadata": {},
   "outputs": [],
   "source": [
    "def print_solution_with_graph():\n",
    "    list_x = []\n",
    "    list_y = []\n",
    "\n",
    "    for i in range(len(dots)):\n",
    "        if i == 10:\n",
    "            plt.scatter([dots[i][0]],[dots[i][1]],\n",
    "                marker='o',\n",
    "                s=30,\n",
    "                c='red',\n",
    "                edgecolors='black')\n",
    "            continue\n",
    "        list_x.append(dots[i][0])\n",
    "        list_y.append(dots[i][1])\n",
    "\n",
    "    plt.scatter(list_x,list_y,\n",
    "               marker='o',\n",
    "               s=30,\n",
    "               c='lightgreen',\n",
    "               edgecolors='black')\n",
    "\n",
    "    plt.title('Values graph')\n",
    "\n",
    "    \n",
    "\n",
    "    color_list = ['green','blue','red']\n",
    "    for vehicle_id in range(data['num_vehicles']):\n",
    "\n",
    "        index = routing.Start(vehicle_id)\n",
    "        index = solution.Value(routing.NextVar(index))\n",
    "        previous_index = 0\n",
    "        pre=dots[0]\n",
    "        count = 0\n",
    "        while not routing.IsEnd(index):\n",
    "            if count == 0:\n",
    "                pre=dots[index]\n",
    "                index = solution.Value(routing.NextVar(index))\n",
    "                previous_index = index\n",
    "                count+=1\n",
    "                continue\n",
    "            \n",
    "            now = dots[manager.IndexToNode(index)]\n",
    "            plt.plot([pre[0],now[0]],[pre[1],now[1]],color_list[vehicle_id])\n",
    "            pre = now\n",
    "            previous_index = index\n",
    "            index = solution.Value(routing.NextVar(index))\n",
    "            if(routing.IsEnd(index)):\n",
    "                plt.plot([now[0],0],[now[1],1],color=color_list[vehicle_id])\n"
   ]
  },
  {
   "cell_type": "code",
   "execution_count": 38,
   "id": "fba48541",
   "metadata": {},
   "outputs": [
    {
     "name": "stdout",
     "output_type": "stream",
     "text": [
      "Objective: 90\n",
      "Route for vehicle 0:\n",
      "0 Time(32,32) -> 9 Time(45,45) -> 10 Time(52,52) -> 0 Time(60,60)\n",
      "Time of the route: 60min\n",
      "\n",
      "Route for vehicle 1:\n",
      "0 Time(0,0) -> 5 Time(3,3) -> 1 Time(10,10) -> 0 Time(15,15)\n",
      "Time of the route: 15min\n",
      "\n",
      "Route for vehicle 2:\n",
      "0 Time(0,0) -> 13 Time(3,4) -> 6 Time(10,10) -> 11 Time(16,16) -> 8 Time(21,21) -> 12 Time(27,27) -> 3 Time(30,30) -> 2 Time(36,36) -> 7 Time(42,42) -> 4 Time(47,47) -> 0 Time(58,58)\n",
      "Time of the route: 58min\n",
      "\n",
      "Total time of all routes: 133min\n",
      "0 9 10 0 \n",
      "0 5 1 0 \n",
      "0 13 6 11 8 12 3 2 7 4 0 \n"
     ]
    },
    {
     "data": {
      "image/png": "[encoded data removed]",
      "text/plain": [
       "<Figure size 432x288 with 1 Axes>"
      ]
     },
     "metadata": {
      "needs_background": "light"
     },
     "output_type": "display_data"
    }
   ],
   "source": [
    "# Print solution on console.\n",
    "if not solution:\n",
    "    print(\"There is no solution.\")\n",
    "if solution:\n",
    "    print_solution(data, manager, routing, solution)\n",
    "    print_solution_with_graph()\n",
    "    print_solution_only_num()"
   ]
  },
  {
   "cell_type": "markdown",
   "id": "f13d9eeb",
   "metadata": {},
   "source": [
    "## "
   ]
  },
  {
   "cell_type": "code",
   "execution_count": null,
   "id": "d0a59848",
   "metadata": {},
   "outputs": [],
   "source": []
  },
  {
   "cell_type": "code",
   "execution_count": null,
   "id": "ee2df449",
   "metadata": {},
   "outputs": [],
   "source": []
  },
  {
   "cell_type": "code",
   "execution_count": null,
   "id": "d630096c",
   "metadata": {},
   "outputs": [],
   "source": []
  }
 ],
 "metadata": {
  "kernelspec": {
   "display_name": "aistone_kernel",
   "language": "python",
   "name": "aistone_kernel"
  },
  "language_info": {
   "codemirror_mode": {
    "name": "ipython",
    "version": 3
   },
   "file_extension": ".py",
   "mimetype": "text/x-python",
   "name": "python",
   "nbconvert_exporter": "python",
   "pygments_lexer": "ipython3",
   "version": "3.10.4"
  }
 },
 "nbformat": 4,
 "nbformat_minor": 5
}
