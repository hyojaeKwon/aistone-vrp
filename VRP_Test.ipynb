{
 "cells": [
  {
   "cell_type": "code",
   "execution_count": 1,
   "id": "0448a185",
   "metadata": {},
   "outputs": [],
   "source": [
    "import matplotlib.pyplot as plt\n",
    "from ortools.constraint_solver import routing_enums_pb2\n",
    "from ortools.constraint_solver import pywrapcp"
   ]
  },
  {
   "cell_type": "code",
   "execution_count": 2,
   "id": "600fe9fa",
   "metadata": {},
   "outputs": [],
   "source": [
    "# Example dots\n",
    "dots = [\n",
    "    [0,1],\n",
    "    [2,1],\n",
    "    [3,7],\n",
    "    [2,5],\n",
    "    [1,8],\n",
    "    [5,0],\n",
    "    [6,7],\n",
    "    [2,9],\n",
    "    [4,4],\n",
    "    [8,2],\n",
    "    [5,1],\n",
    "    [6,4],\n",
    "    [2,5],\n",
    "    [9,7],\n",
    "]"
   ]
  },
  {
   "cell_type": "code",
   "execution_count": 3,
   "id": "0b95bcd2",
   "metadata": {},
   "outputs": [
    {
     "data": {
      "image/png": "[encoded data removed]",
      "text/plain": [
       "<Figure size 432x288 with 1 Axes>"
      ]
     },
     "metadata": {
      "needs_background": "light"
     },
     "output_type": "display_data"
    }
   ],
   "source": [
    "list_x = []\n",
    "list_y = []\n",
    "\n",
    "for i in range(len(dots)):\n",
    "    list_x.append(dots[i][0])\n",
    "    list_y.append(dots[i][1])\n",
    "\n",
    "plt.scatter(list_x,list_y,\n",
    "           marker='o',\n",
    "           s=30,\n",
    "           c='lightgreen',\n",
    "           edgecolors='black')\n",
    "\n",
    "plt.title('Values graph')\n",
    "plt.show()"
   ]
  },
  {
   "cell_type": "code",
   "execution_count": 4,
   "id": "8a37b8bf",
   "metadata": {},
   "outputs": [
    {
     "data": {
      "text/plain": [
       "[[0, 2, 9, 6, 8, 6, 12, 10, 7, 9, 5, 9, 6, 15],\n",
       " [2, 0, 7, 4, 8, 4, 10, 8, 5, 7, 3, 7, 4, 13],\n",
       " [9, 7, 0, 3, 3, 9, 3, 3, 4, 10, 8, 6, 3, 6],\n",
       " [6, 4, 3, 0, 4, 8, 6, 4, 3, 9, 7, 5, 0, 9],\n",
       " [8, 8, 3, 4, 0, 12, 6, 2, 7, 13, 11, 9, 4, 9],\n",
       " [6, 4, 9, 8, 12, 0, 8, 12, 5, 5, 1, 5, 8, 11],\n",
       " [12, 10, 3, 6, 6, 8, 0, 6, 5, 7, 7, 3, 6, 3],\n",
       " [10, 8, 3, 4, 2, 12, 6, 0, 7, 13, 11, 9, 4, 9],\n",
       " [7, 5, 4, 3, 7, 5, 5, 7, 0, 6, 4, 2, 3, 8],\n",
       " [9, 7, 10, 9, 13, 5, 7, 13, 6, 0, 4, 4, 9, 6],\n",
       " [5, 3, 8, 7, 11, 1, 7, 11, 4, 4, 0, 4, 7, 10],\n",
       " [9, 7, 6, 5, 9, 5, 3, 9, 2, 4, 4, 0, 5, 6],\n",
       " [6, 4, 3, 0, 4, 8, 6, 4, 3, 9, 7, 5, 0, 9],\n",
       " [15, 13, 6, 9, 9, 11, 3, 9, 8, 6, 10, 6, 9, 0]]"
      ]
     },
     "execution_count": 4,
     "metadata": {},
     "output_type": "execute_result"
    }
   ],
   "source": [
    "# distance_matrix 계산하는 부분\n",
    "\n",
    "distance_matrix = []\n",
    "\n",
    "for i in range(len(dots)):\n",
    "    single_distance_matrix = []\n",
    "    for j in range(len(dots)):\n",
    "        distance = abs(dots[i][0] - dots[j][0]) + abs(dots[i][1] - dots[j][1])\n",
    "        single_distance_matrix.append(distance)\n",
    "    \n",
    "    distance_matrix.append(single_distance_matrix)\n",
    "    \n",
    "distance_matrix\n",
    "        "
   ]
  },
  {
   "cell_type": "code",
   "execution_count": 5,
   "id": "1fcf7c76",
   "metadata": {},
   "outputs": [],
   "source": [
    "def create_data_model():\n",
    "    data = {}\n",
    "    data['distance_matrix'] = distance_matrix\n",
    "    data['num_vehicles'] = 3\n",
    "    data['depot'] = 0\n",
    "    return data"
   ]
  },
  {
   "cell_type": "code",
   "execution_count": 10,
   "id": "055ef83c",
   "metadata": {},
   "outputs": [],
   "source": [
    "# Instance the data problem\n",
    "data = create_data_model()"
   ]
  },
  {
   "cell_type": "code",
   "execution_count": 11,
   "id": "facd8408",
   "metadata": {},
   "outputs": [],
   "source": [
    "# Create the routing index manager\n",
    "manager = pywrapcp.RoutingIndexManager(len(data['distance_matrix']),data['num_vehicles'], data['depot'])"
   ]
  },
  {
   "cell_type": "code",
   "execution_count": 12,
   "id": "effbe2a7",
   "metadata": {},
   "outputs": [],
   "source": [
    "# Create the routing Model\n",
    "routing = pywrapcp.RoutingModel(manager)"
   ]
  },
  {
   "cell_type": "code",
   "execution_count": 13,
   "id": "96da3b75",
   "metadata": {},
   "outputs": [],
   "source": [
    "def distance_callback(from_index, to_index):\n",
    "        \"\"\"Returns the distance between the two nodes.\"\"\"\n",
    "        # Convert from routing variable Index to distance matrix NodeIndex.\n",
    "        from_node = manager.IndexToNode(from_index)\n",
    "        to_node = manager.IndexToNode(to_index)\n",
    "        return data['distance_matrix'][from_node][to_node]"
   ]
  },
  {
   "cell_type": "code",
   "execution_count": 14,
   "id": "b172bfc5",
   "metadata": {},
   "outputs": [],
   "source": [
    "transit_callback_index = routing.RegisterTransitCallback(distance_callback)"
   ]
  },
  {
   "cell_type": "code",
   "execution_count": 15,
   "id": "23051653",
   "metadata": {},
   "outputs": [],
   "source": [
    "# Define cost of each arc.\n",
    "routing.SetArcCostEvaluatorOfAllVehicles(transit_callback_index)\n",
    "\n",
    "# Add Distance constraint.\n",
    "dimension_name = 'Distance'\n",
    "routing.AddDimension(\n",
    "    transit_callback_index,\n",
    "    0,  # no slack\n",
    "    3000,  # vehicle maximum travel distance\n",
    "    True,  # start cumul to zero\n",
    "    dimension_name)\n",
    "distance_dimension = routing.GetDimensionOrDie(dimension_name)\n",
    "distance_dimension.SetGlobalSpanCostCoefficient(100)"
   ]
  },
  {
   "cell_type": "code",
   "execution_count": 16,
   "id": "c5dd4a17",
   "metadata": {},
   "outputs": [],
   "source": [
    "# Setting first solution heuristic\n",
    "search_parameters = pywrapcp.DefaultRoutingSearchParameters()\n",
    "search_parameters.first_solution_strategy = (\n",
    "    routing_enums_pb2.FirstSolutionStrategy.PATH_CHEAPEST_ARC)"
   ]
  },
  {
   "cell_type": "code",
   "execution_count": 17,
   "id": "ecde3c44",
   "metadata": {},
   "outputs": [],
   "source": [
    "def print_solution(data, manager, routing, solution):\n",
    "    \"\"\"Prints solution on console.\"\"\"\n",
    "    print(f'Objective: {solution.ObjectiveValue()}')\n",
    "    max_route_distance = 0\n",
    "    for vehicle_id in range(data['num_vehicles']):\n",
    "        index = routing.Start(vehicle_id)\n",
    "        plan_output = 'Route for vehicle {}:\\n'.format(vehicle_id)\n",
    "        route_distance = 0\n",
    "        while not routing.IsEnd(index):\n",
    "            plan_output += ' {} -> '.format(manager.IndexToNode(index))\n",
    "            previous_index = index\n",
    "            index = solution.Value(routing.NextVar(index))\n",
    "            route_distance += routing.GetArcCostForVehicle(\n",
    "                previous_index, index, vehicle_id)\n",
    "        plan_output += '{}\\n'.format(manager.IndexToNode(index))\n",
    "        plan_output += 'Distance of the route: {}m\\n'.format(route_distance)\n",
    "        print(plan_output)\n",
    "        max_route_distance = max(route_distance, max_route_distance)\n",
    "    print('Maximum of the route distances: {}m'.format(max_route_distance))"
   ]
  },
  {
   "cell_type": "code",
   "execution_count": 23,
   "id": "bb8932c3",
   "metadata": {},
   "outputs": [
    {
     "name": "stdout",
     "output_type": "stream",
     "text": [
      "Objective: 3060\n",
      "Route for vehicle 0:\n",
      " 0 ->  4 ->  7 ->  2 ->  8 ->  11 ->  10 ->  5 -> 0\n",
      "Distance of the route: 30m\n",
      "\n",
      "Route for vehicle 1:\n",
      " 0 -> 0\n",
      "Distance of the route: 0m\n",
      "\n",
      "Route for vehicle 2:\n",
      " 0 ->  1 ->  12 ->  3 ->  6 ->  13 ->  9 -> 0\n",
      "Distance of the route: 30m\n",
      "\n",
      "Maximum of the route distances: 30m\n"
     ]
    }
   ],
   "source": [
    "# Solve the problem.\n",
    "solution = routing.SolveWithParameters(search_parameters)\n",
    "\n",
    "# Print solution on console.\n",
    "if solution:\n",
    "    print_solution(data, manager, routing, solution)\n",
    "else:\n",
    "    print('No solution found !')"
   ]
  },
  {
   "cell_type": "code",
   "execution_count": 51,
   "id": "0f71f077",
   "metadata": {},
   "outputs": [
    {
     "data": {
      "image/png": "[encoded data removed]",
      "text/plain": [
       "<Figure size 432x288 with 1 Axes>"
      ]
     },
     "metadata": {
      "needs_background": "light"
     },
     "output_type": "display_data"
    }
   ],
   "source": [
    "color_list = ['green','blue','red']\n",
    "for vehicle_id in range(data['num_vehicles']):\n",
    "\n",
    "    index = routing.Start(vehicle_id)\n",
    "    index = solution.Value(routing.NextVar(index))\n",
    "    previous_index = 0\n",
    "    pre=dots[0]\n",
    "    \n",
    "    while not routing.IsEnd(index):\n",
    "\n",
    "        now = dots[manager.IndexToNode(index)]\n",
    "        plt.plot([pre[0],now[0]],[pre[1],now[1]],color_list[vehicle_id])\n",
    "        pre = now\n",
    "        previous_index = index\n",
    "        index = solution.Value(routing.NextVar(index))\n",
    "        if(routing.IsEnd(index)):\n",
    "            plt.plot([now[0],0],[now[1],1],color=\"green\")\n"
   ]
  },
  {
   "cell_type": "code",
   "execution_count": null,
   "id": "9bb9b6e3",
   "metadata": {},
   "outputs": [],
   "source": []
  }
 ],
 "metadata": {
  "kernelspec": {
   "display_name": "aistone_kernel",
   "language": "python",
   "name": "aistone_kernel"
  },
  "language_info": {
   "codemirror_mode": {
    "name": "ipython",
    "version": 3
   },
   "file_extension": ".py",
   "mimetype": "text/x-python",
   "name": "python",
   "nbconvert_exporter": "python",
   "pygments_lexer": "ipython3",
   "version": "3.10.4"
  }
 },
 "nbformat": 4,
 "nbformat_minor": 5
}
